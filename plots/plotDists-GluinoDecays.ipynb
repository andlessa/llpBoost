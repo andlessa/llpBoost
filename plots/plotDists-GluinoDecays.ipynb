{
 "cells": [
  {
   "cell_type": "code",
   "execution_count": 1,
   "id": "de85d9b1",
   "metadata": {},
   "outputs": [],
   "source": [
    "import warnings\n",
    "warnings.filterwarnings(\"ignore\", message=\"numpy.dtype size changed\")\n",
    "import numpy as np\n",
    "import matplotlib.pyplot as plt\n",
    "import seaborn as sns\n",
    "import sys\n",
    "sys.path.append('../')\n",
    "from lheHelper import getLHEevents,getInfo,EventDict\n",
    "\n",
    "plt.rcParams.update({\n",
    "    \"text.usetex\": True,\n",
    "    \"font.family\": \"sans-serif\",\n",
    "    \"font.sans-serif\": [\"Helvetica\"]})\n",
    "\n",
    "plt.rcParams.update({\"savefig.dpi\" : 300}) #Figure resolution\n",
    "\n",
    "\n",
    "#Define plotting style:\n",
    "sns.set() #Set style\n",
    "sns.set_style('ticks',{'font.family':'Times New Roman', 'font.serif':'Times New Roman'})\n",
    "sns.set_context('paper', font_scale=1.8)\n",
    "cm = plt.colormaps['RdYlBu']"
   ]
  },
  {
   "cell_type": "code",
   "execution_count": 2,
   "id": "4d64b67d",
   "metadata": {},
   "outputs": [],
   "source": [
    "fList = ['../processFolders/pp2GGN1N1/Events/run_01_decayed_1/unweighted_events.lhe.gz',\n",
    "         '../processFolders/pp2GGN1N1/Events/run_02_decayed_1/unweighted_events.lhe.gz',\n",
    "         '../processFolders/pp2GGN1N1/Events/run_03_decayed_1/unweighted_events.lhe.gz']"
   ]
  },
  {
   "cell_type": "code",
   "execution_count": 3,
   "id": "73cbb27b",
   "metadata": {},
   "outputs": [],
   "source": [
    "infoDict = {f : getInfo(f) for f in fList}"
   ]
  },
  {
   "cell_type": "code",
   "execution_count": 4,
   "id": "55579358",
   "metadata": {},
   "outputs": [
    {
     "name": "stdout",
     "output_type": "stream",
     "text": [
      "#--------------------------------------------------------------------------\n",
      "#                         FastJet release 3.4.1\n",
      "#                 M. Cacciari, G.P. Salam and G. Soyez                  \n",
      "#     A software package for jet finding and analysis at colliders      \n",
      "#                           http://fastjet.fr                           \n",
      "#\t                                                                      \n",
      "# Please cite EPJC72(2012)1896 [arXiv:1111.6097] if you use this package\n",
      "# for scientific work and optionally PLB641(2006)57 [hep-ph/0512210].   \n",
      "#                                                                       \n",
      "# FastJet is provided without warranty under the GNU GPL v2 or higher.  \n",
      "# It uses T. Chan's closest pair algorithm, S. Fortune's Voronoi code,\n",
      "# CGAL and 3rd party plugin jet algorithms. See COPYING file for details.\n",
      "#--------------------------------------------------------------------------\n"
     ]
    }
   ],
   "source": [
    "for f,infoD in infoDict.items():\n",
    "    nevents,events = getLHEevents(f)\n",
    "    pDict = EventDict.fromEvents(events,nevents,\n",
    "                                    pdgs=[1000021,1000022, 'jet'],\n",
    "                                    status=[1,2],labels=['go','n1', 'jet'])\n",
    "    \n",
    "    # Add met:\n",
    "    pDict.particleDict['met'] = pDict.n1[0]+pDict.n1[1]    \n",
    "    infoD.update({'pDict' : pDict})"
   ]
  },
  {
   "cell_type": "code",
   "execution_count": 5,
   "metadata": {},
   "outputs": [],
   "source": [
    "# Sort by mass\n",
    "infoDict = {key : val for key,val in sorted(list(infoDict.items()), key = lambda x: x[1]['mGluino'])}"
   ]
  },
  {
   "cell_type": "code",
   "execution_count": 6,
   "metadata": {},
   "outputs": [
    {
     "name": "stdout",
     "output_type": "stream",
     "text": [
      "mGluino = 1500 GeV : total xsec = 4.30e-32 pb\n",
      "mGluino = 1500 GeV : total xsec = 5.21e-35 pb\n",
      "mGluino = 1500 GeV : total xsec = 5.64e-38 pb\n"
     ]
    }
   ],
   "source": [
    "for infoD in infoDict.values():\n",
    "    print(r'mGluino = %1.0f GeV : total xsec = %1.2e pb' %(infoD['mGluino'],sum(infoD['pDict'].go[0].weight)))"
   ]
  },
  {
   "cell_type": "code",
   "execution_count": 11,
   "id": "e2efee82",
   "metadata": {},
   "outputs": [
    {
     "data": {
      "image/png": "[encoded data removed]",
      "text/plain": [
       "<Figure size 504x360 with 1 Axes>"
      ]
     },
     "metadata": {},
     "output_type": "display_data"
    }
   ],
   "source": [
    "plt.figure(figsize=(7,5))\n",
    "bins=np.arange(0.,600.0,20.0)\n",
    "for infoD in infoDict.values():\n",
    "    j = infoD['pDict'].jet[0] # Use only highest pT jet\n",
    "    w = np.array(j.weight)\n",
    "    label = infoD['process']\n",
    "    label += r' ($m_{\\tilde{g}}$ = %1.0f GeV, $\\Delta m  = $ %1.0f GeV)' %(infoD['mGluino'],infoD['mGluino']-infoD['mN1'])\n",
    "    plt.hist(j.PT,bins=bins,weights=w,density=True,\n",
    "             histtype='step',label=label,linewidth=2)\n",
    "\n",
    "plt.legend(loc='upper right',framealpha=1.0,fontsize=11)\n",
    "plt.yscale('log')\n",
    "plt.xlabel(r'$p_T(j_1)$ (GeV)')\n",
    "plt.ylabel(r'$\\frac{1}{\\sigma}\\frac{d\\sigma}{d p_T}$')\n",
    "plt.grid()\n",
    "plt.tight_layout()\n",
    "plt.savefig('pT_vs_deltam.png')\n",
    "plt.show()"
   ]
  },
  {
   "cell_type": "code",
   "execution_count": 12,
   "metadata": {},
   "outputs": [
    {
     "data": {
      "image/png": "[encoded data removed]",
      "text/plain": [
       "<Figure size 504x360 with 1 Axes>"
      ]
     },
     "metadata": {},
     "output_type": "display_data"
    }
   ],
   "source": [
    "plt.figure(figsize=(7,5))\n",
    "bins=np.arange(0.,600.0,20.0)\n",
    "for infoD in infoDict.values():\n",
    "    met = infoD['pDict'].met # Use only highest pT jet\n",
    "    w = np.array(met.weight)\n",
    "    label = infoD['process']\n",
    "    label += r' ($m_{\\tilde{g}}$ = %1.0f GeV, $\\Delta m  = $ %1.0f GeV)' %(infoD['mGluino'],infoD['mGluino']-infoD['mN1'])\n",
    "    plt.hist(met.PT,bins=bins,weights=w,density=True,\n",
    "             histtype='step',label=label,linewidth=2)\n",
    "\n",
    "plt.legend(loc='upper right',framealpha=1.0,fontsize=11)\n",
    "plt.yscale('log')\n",
    "plt.xlabel(r'$E_T^{\\rm miss}$ (GeV)')\n",
    "plt.ylabel(r'$\\frac{1}{\\sigma}\\frac{d\\sigma}{d p_T}$')\n",
    "plt.grid()\n",
    "plt.tight_layout()\n",
    "plt.savefig('MET_vs_deltam.png')\n",
    "plt.show()"
   ]
  },
  {
   "cell_type": "code",
   "execution_count": 13,
   "metadata": {},
   "outputs": [],
   "source": [
    "def angleDiff(x1,x2):\n",
    "    d = x1-x2\n",
    "    if d > np.pi:\n",
    "        d = d-2*np.pi\n",
    "    elif d < -np.pi:\n",
    "        d = d+2*np.pi\n",
    "    return d"
   ]
  },
  {
   "cell_type": "code",
   "execution_count": 14,
   "metadata": {},
   "outputs": [
    {
     "data": {
      "image/png": "[encoded data removed]",
      "text/plain": [
       "<Figure size 504x360 with 1 Axes>"
      ]
     },
     "metadata": {},
     "output_type": "display_data"
    }
   ],
   "source": [
    "plt.figure(figsize=(7,5))\n",
    "bins=np.arange(0,np.pi,0.25)\n",
    "for infoD in infoDict.values():\n",
    "    deltaPhi = [np.abs(angleDiff(x.Phi,y.Phi)) for x,y in zip(infoD['pDict'].met,infoD['pDict'].jet[0])]\n",
    "    w = np.array(met.weight)\n",
    "    label = infoD['process']\n",
    "    label += r' ($m_{\\tilde{g}}$ = %1.0f GeV, $\\Delta m  = $ %1.0f GeV)' %(infoD['mGluino'],infoD['mGluino']-infoD['mN1'])\n",
    "    plt.hist(deltaPhi,bins=bins,weights=w,density=True,\n",
    "             histtype='step',label=label,linewidth=2)\n",
    "\n",
    "plt.legend(loc='upper left',framealpha=1.0,fontsize=11)\n",
    "# plt.yscale('log')\n",
    "plt.xlabel(r'$|\\Delta \\phi(j_1,E_{T}^{\\rm miss})|$')\n",
    "plt.ylabel(r'$\\frac{1}{\\sigma}\\frac{d\\sigma}{d p_T}$')\n",
    "plt.grid()\n",
    "plt.tight_layout()\n",
    "plt.savefig('deltaPhi_vs_deltam.png')\n",
    "plt.show()"
   ]
  },
  {
   "cell_type": "code",
   "execution_count": null,
   "metadata": {},
   "outputs": [],
   "source": []
  }
 ],
 "metadata": {
  "kernelspec": {
   "display_name": "Python 3 (ipykernel)",
   "language": "python",
   "name": "python3"
  },
  "language_info": {
   "codemirror_mode": {
    "name": "ipython",
    "version": 3
   },
   "file_extension": ".py",
   "mimetype": "text/x-python",
   "name": "python",
   "nbconvert_exporter": "python",
   "pygments_lexer": "ipython3",
   "version": "3.9.7"
  }
 },
 "nbformat": 4,
 "nbformat_minor": 5
}
