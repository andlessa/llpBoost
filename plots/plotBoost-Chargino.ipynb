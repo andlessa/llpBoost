{
 "cells": [
  {
   "cell_type": "code",
   "execution_count": null,
   "id": "de85d9b1",
   "metadata": {},
   "outputs": [],
   "source": [
    "import warnings\n",
    "warnings.filterwarnings(\"ignore\", message=\"numpy.dtype size changed\")\n",
    "import numpy as np\n",
    "import pandas as pd\n",
    "import glob,imp,os,shutil\n",
    "from pandas.io.json import json_normalize\n",
    "import pyslha\n",
    "import matplotlib as mpl\n",
    "import matplotlib.pyplot as plt\n",
    "from matplotlib.colors import LogNorm\n",
    "from collections import OrderedDict\n",
    "import seaborn as sns\n",
    "from scipy.interpolate import interp1d\n",
    "from IPython.display import display, Markdown\n",
    "from getBoost import getLHEevents,getBoost,getInfo\n",
    "\n",
    "pd.option_context('display.max_columns', -1)\n",
    "\n",
    "pd.options.mode.chained_assignment = None #Disable copy warnings\n",
    "# plt.style.use('fivethirtyeight') #Set style\n",
    "# mpl.rcParams.update({'figure.figsize' : (15,10)})  #Set general plotting options\n",
    "plt.rcParams.update({\n",
    "    \"text.usetex\": True,\n",
    "    \"font.family\": \"sans-serif\",\n",
    "    \"font.sans-serif\": [\"Helvetica\"]})\n",
    "\n",
    "plt.rcParams.update({\"savefig.dpi\" : 300}) #Figure resolution\n",
    "\n",
    "\n",
    "#Define plotting style:\n",
    "sns.set() #Set style\n",
    "sns.set_style('ticks',{'font.family':'Times New Roman', 'font.serif':'Times New Roman'})\n",
    "sns.set_context('paper', font_scale=1.8)\n",
    "cm = plt.cm.get_cmap('RdYlBu')"
   ]
  },
  {
   "cell_type": "code",
   "execution_count": null,
   "id": "4d64b67d",
   "metadata": {},
   "outputs": [],
   "source": [
    "fList = ['../pp2C1C1/Events/run_01/unweighted_events.lhe.gz'\n",
    "        '../pp2C1C1/Events/run_04/unweighted_events.lhe.gz',\n",
    "         '../pp2C1C1/Events/run_02/unweighted_events.lhe.gz',\n",
    "        '../pp2C1C1/Events/run_03/unweighted_events.lhe.gz']"
   ]
  },
  {
   "cell_type": "code",
   "execution_count": null,
   "id": "73cbb27b",
   "metadata": {},
   "outputs": [],
   "source": [
    "infoDict = {f : getInfo(f) for f in fList}"
   ]
  },
  {
   "cell_type": "code",
   "execution_count": null,
   "id": "55579358",
   "metadata": {},
   "outputs": [],
   "source": [
    "for f,infoD in infoDict.items():\n",
    "    nevents,events = getLHEevents(f)\n",
    "    c1,n1,w1 = getBoost(nevents,events)\n",
    "    infoD.update({'c1Boost' : c1, 'n1Boost' : n1, 'weights' : w1[:,0]})"
   ]
  },
  {
   "cell_type": "code",
   "execution_count": null,
   "id": "3ee779bd",
   "metadata": {},
   "outputs": [],
   "source": [
    "plt.figure(figsize=(8,5))\n",
    "bins=np.arange(0.,8.0,0.5)\n",
    "for infoD in infoDict.values():\n",
    "    l = infoD['c1Boost']*3e8*25e-9\n",
    "    label = infoD['process']\n",
    "    label += r' ($m_{\\tilde{\\chi}}$ = %1.0f GeV)' %infoD['mC1']    \n",
    "    w = infoD['weights']\n",
    "    w = np.append(w,w)/(2*sum(infoD['weights']))\n",
    "    plt.hist(l,bins=bins,weights=w,\n",
    "             histtype='step',label=label,linewidth=2)\n",
    "\n",
    "# plt.hist(n1,bins=20,density=True,histtype='step',label=r'$\\tilde{\\chi}_1^0$',linewidth=2)\n",
    "plt.legend(loc='lower right',framealpha=1.0)\n",
    "plt.yscale('log')\n",
    "plt.xlabel(r'$l_{\\rm 25ns}$ (m)')\n",
    "plt.title('Propagation length')\n",
    "\n",
    "plt.show()"
   ]
  },
  {
   "cell_type": "code",
   "execution_count": null,
   "id": "e2efee82",
   "metadata": {},
   "outputs": [],
   "source": [
    "plt.figure(figsize=(7,4))\n",
    "bins=np.arange(0.,8.0,0.5)\n",
    "for infoD in infoDict.values():\n",
    "    l = infoD['c1Boost']*3e8*25e-9\n",
    "    label = infoD['process']\n",
    "    label += r' ($m_{\\tilde{\\chi}}$ = %1.0f GeV)' %infoD['mC1']\n",
    "    w = infoD['weights']\n",
    "    w = np.append(w,w)\n",
    "    w = w/(2*sum(infoD['weights']))\n",
    "    plt.hist(l,bins=bins,weights=w,cumulative=True,\n",
    "             histtype='step',label=label,linewidth=2)\n",
    "\n",
    "# plt.hist(n1,bins=20,density=True,histtype='step',label=r'$\\tilde{\\chi}_1^0$',linewidth=2)\n",
    "plt.legend(loc='upper left',framealpha=1.0,fontsize=13)\n",
    "plt.vlines(x=3.0,ymin=0.,ymax=1.0,linestyle='dashed',linewidth=2,color='gray')\n",
    "# plt.yscale('log')\n",
    "plt.xlabel(r'$l_{\\rm 25ns}$ (m)')\n",
    "plt.xlabel(r'$l_{\\rm 25ns}$ (m)')\n",
    "plt.yticks(np.arange(0.,1.,0.1))\n",
    "plt.grid()\n",
    "plt.title('Cumulative fraction of propagation length')\n",
    "# plt.savefig('boost_chargino.png')\n",
    "plt.show()"
   ]
  },
  {
   "cell_type": "code",
   "execution_count": null,
   "id": "7accad1e",
   "metadata": {},
   "outputs": [],
   "source": []
  }
 ],
 "metadata": {
  "kernelspec": {
   "display_name": "Python 3 (ipykernel)",
   "language": "python",
   "name": "python3"
  },
  "language_info": {
   "codemirror_mode": {
    "name": "ipython",
    "version": 3
   },
   "file_extension": ".py",
   "mimetype": "text/x-python",
   "name": "python",
   "nbconvert_exporter": "python",
   "pygments_lexer": "ipython3",
   "version": "3.9.7"
  }
 },
 "nbformat": 4,
 "nbformat_minor": 5
}
